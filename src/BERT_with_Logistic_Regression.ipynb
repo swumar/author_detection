{
  "nbformat": 4,
  "nbformat_minor": 0,
  "metadata": {
    "colab": {
      "name": "BERT with Logistic Regression",
      "provenance": []
    },
    "kernelspec": {
      "name": "python3",
      "display_name": "Python 3"
    },
    "accelerator": "GPU"
  },
  "cells": [
    {
      "cell_type": "code",
      "metadata": {
        "id": "GK74GdTLTIk4",
        "colab": {
          "base_uri": "https://localhost:8080/"
        },
        "outputId": "61afd09e-6f0a-4a03-e429-dd3222cc590d"
      },
      "source": [
        "!pip install transformers"
      ],
      "execution_count": 1,
      "outputs": [
        {
          "output_type": "stream",
          "text": [
            "Collecting transformers\n",
            "\u001b[?25l  Downloading https://files.pythonhosted.org/packages/3a/83/e74092e7f24a08d751aa59b37a9fc572b2e4af3918cb66f7766c3affb1b4/transformers-3.5.1-py3-none-any.whl (1.3MB)\n",
            "\r\u001b[K     |▎                               | 10kB 15.0MB/s eta 0:00:01\r\u001b[K     |▌                               | 20kB 19.0MB/s eta 0:00:01\r\u001b[K     |▊                               | 30kB 15.6MB/s eta 0:00:01\r\u001b[K     |█                               | 40kB 14.0MB/s eta 0:00:01\r\u001b[K     |█▎                              | 51kB 11.3MB/s eta 0:00:01\r\u001b[K     |█▌                              | 61kB 11.5MB/s eta 0:00:01\r\u001b[K     |█▊                              | 71kB 11.5MB/s eta 0:00:01\r\u001b[K     |██                              | 81kB 11.9MB/s eta 0:00:01\r\u001b[K     |██▎                             | 92kB 12.5MB/s eta 0:00:01\r\u001b[K     |██▌                             | 102kB 12.4MB/s eta 0:00:01\r\u001b[K     |██▊                             | 112kB 12.4MB/s eta 0:00:01\r\u001b[K     |███                             | 122kB 12.4MB/s eta 0:00:01\r\u001b[K     |███▎                            | 133kB 12.4MB/s eta 0:00:01\r\u001b[K     |███▌                            | 143kB 12.4MB/s eta 0:00:01\r\u001b[K     |███▉                            | 153kB 12.4MB/s eta 0:00:01\r\u001b[K     |████                            | 163kB 12.4MB/s eta 0:00:01\r\u001b[K     |████▎                           | 174kB 12.4MB/s eta 0:00:01\r\u001b[K     |████▌                           | 184kB 12.4MB/s eta 0:00:01\r\u001b[K     |████▉                           | 194kB 12.4MB/s eta 0:00:01\r\u001b[K     |█████                           | 204kB 12.4MB/s eta 0:00:01\r\u001b[K     |█████▎                          | 215kB 12.4MB/s eta 0:00:01\r\u001b[K     |█████▌                          | 225kB 12.4MB/s eta 0:00:01\r\u001b[K     |█████▉                          | 235kB 12.4MB/s eta 0:00:01\r\u001b[K     |██████                          | 245kB 12.4MB/s eta 0:00:01\r\u001b[K     |██████▎                         | 256kB 12.4MB/s eta 0:00:01\r\u001b[K     |██████▌                         | 266kB 12.4MB/s eta 0:00:01\r\u001b[K     |██████▉                         | 276kB 12.4MB/s eta 0:00:01\r\u001b[K     |███████                         | 286kB 12.4MB/s eta 0:00:01\r\u001b[K     |███████▎                        | 296kB 12.4MB/s eta 0:00:01\r\u001b[K     |███████▋                        | 307kB 12.4MB/s eta 0:00:01\r\u001b[K     |███████▉                        | 317kB 12.4MB/s eta 0:00:01\r\u001b[K     |████████                        | 327kB 12.4MB/s eta 0:00:01\r\u001b[K     |████████▎                       | 337kB 12.4MB/s eta 0:00:01\r\u001b[K     |████████▋                       | 348kB 12.4MB/s eta 0:00:01\r\u001b[K     |████████▉                       | 358kB 12.4MB/s eta 0:00:01\r\u001b[K     |█████████                       | 368kB 12.4MB/s eta 0:00:01\r\u001b[K     |█████████▎                      | 378kB 12.4MB/s eta 0:00:01\r\u001b[K     |█████████▋                      | 389kB 12.4MB/s eta 0:00:01\r\u001b[K     |█████████▉                      | 399kB 12.4MB/s eta 0:00:01\r\u001b[K     |██████████                      | 409kB 12.4MB/s eta 0:00:01\r\u001b[K     |██████████▎                     | 419kB 12.4MB/s eta 0:00:01\r\u001b[K     |██████████▋                     | 430kB 12.4MB/s eta 0:00:01\r\u001b[K     |██████████▉                     | 440kB 12.4MB/s eta 0:00:01\r\u001b[K     |███████████                     | 450kB 12.4MB/s eta 0:00:01\r\u001b[K     |███████████▍                    | 460kB 12.4MB/s eta 0:00:01\r\u001b[K     |███████████▋                    | 471kB 12.4MB/s eta 0:00:01\r\u001b[K     |███████████▉                    | 481kB 12.4MB/s eta 0:00:01\r\u001b[K     |████████████                    | 491kB 12.4MB/s eta 0:00:01\r\u001b[K     |████████████▍                   | 501kB 12.4MB/s eta 0:00:01\r\u001b[K     |████████████▋                   | 512kB 12.4MB/s eta 0:00:01\r\u001b[K     |████████████▉                   | 522kB 12.4MB/s eta 0:00:01\r\u001b[K     |█████████████                   | 532kB 12.4MB/s eta 0:00:01\r\u001b[K     |█████████████▍                  | 542kB 12.4MB/s eta 0:00:01\r\u001b[K     |█████████████▋                  | 552kB 12.4MB/s eta 0:00:01\r\u001b[K     |█████████████▉                  | 563kB 12.4MB/s eta 0:00:01\r\u001b[K     |██████████████                  | 573kB 12.4MB/s eta 0:00:01\r\u001b[K     |██████████████▍                 | 583kB 12.4MB/s eta 0:00:01\r\u001b[K     |██████████████▋                 | 593kB 12.4MB/s eta 0:00:01\r\u001b[K     |██████████████▉                 | 604kB 12.4MB/s eta 0:00:01\r\u001b[K     |███████████████▏                | 614kB 12.4MB/s eta 0:00:01\r\u001b[K     |███████████████▍                | 624kB 12.4MB/s eta 0:00:01\r\u001b[K     |███████████████▋                | 634kB 12.4MB/s eta 0:00:01\r\u001b[K     |███████████████▉                | 645kB 12.4MB/s eta 0:00:01\r\u001b[K     |████████████████▏               | 655kB 12.4MB/s eta 0:00:01\r\u001b[K     |████████████████▍               | 665kB 12.4MB/s eta 0:00:01\r\u001b[K     |████████████████▋               | 675kB 12.4MB/s eta 0:00:01\r\u001b[K     |████████████████▉               | 686kB 12.4MB/s eta 0:00:01\r\u001b[K     |█████████████████▏              | 696kB 12.4MB/s eta 0:00:01\r\u001b[K     |█████████████████▍              | 706kB 12.4MB/s eta 0:00:01\r\u001b[K     |█████████████████▋              | 716kB 12.4MB/s eta 0:00:01\r\u001b[K     |██████████████████              | 727kB 12.4MB/s eta 0:00:01\r\u001b[K     |██████████████████▏             | 737kB 12.4MB/s eta 0:00:01\r\u001b[K     |██████████████████▍             | 747kB 12.4MB/s eta 0:00:01\r\u001b[K     |██████████████████▋             | 757kB 12.4MB/s eta 0:00:01\r\u001b[K     |███████████████████             | 768kB 12.4MB/s eta 0:00:01\r\u001b[K     |███████████████████▏            | 778kB 12.4MB/s eta 0:00:01\r\u001b[K     |███████████████████▍            | 788kB 12.4MB/s eta 0:00:01\r\u001b[K     |███████████████████▋            | 798kB 12.4MB/s eta 0:00:01\r\u001b[K     |████████████████████            | 808kB 12.4MB/s eta 0:00:01\r\u001b[K     |████████████████████▏           | 819kB 12.4MB/s eta 0:00:01\r\u001b[K     |████████████████████▍           | 829kB 12.4MB/s eta 0:00:01\r\u001b[K     |████████████████████▋           | 839kB 12.4MB/s eta 0:00:01\r\u001b[K     |█████████████████████           | 849kB 12.4MB/s eta 0:00:01\r\u001b[K     |█████████████████████▏          | 860kB 12.4MB/s eta 0:00:01\r\u001b[K     |█████████████████████▍          | 870kB 12.4MB/s eta 0:00:01\r\u001b[K     |█████████████████████▊          | 880kB 12.4MB/s eta 0:00:01\r\u001b[K     |██████████████████████          | 890kB 12.4MB/s eta 0:00:01\r\u001b[K     |██████████████████████▏         | 901kB 12.4MB/s eta 0:00:01\r\u001b[K     |██████████████████████▍         | 911kB 12.4MB/s eta 0:00:01\r\u001b[K     |██████████████████████▊         | 921kB 12.4MB/s eta 0:00:01\r\u001b[K     |███████████████████████         | 931kB 12.4MB/s eta 0:00:01\r\u001b[K     |███████████████████████▏        | 942kB 12.4MB/s eta 0:00:01\r\u001b[K     |███████████████████████▍        | 952kB 12.4MB/s eta 0:00:01\r\u001b[K     |███████████████████████▊        | 962kB 12.4MB/s eta 0:00:01\r\u001b[K     |████████████████████████        | 972kB 12.4MB/s eta 0:00:01\r\u001b[K     |████████████████████████▏       | 983kB 12.4MB/s eta 0:00:01\r\u001b[K     |████████████████████████▍       | 993kB 12.4MB/s eta 0:00:01\r\u001b[K     |████████████████████████▊       | 1.0MB 12.4MB/s eta 0:00:01\r\u001b[K     |█████████████████████████       | 1.0MB 12.4MB/s eta 0:00:01\r\u001b[K     |█████████████████████████▏      | 1.0MB 12.4MB/s eta 0:00:01\r\u001b[K     |█████████████████████████▌      | 1.0MB 12.4MB/s eta 0:00:01\r\u001b[K     |█████████████████████████▊      | 1.0MB 12.4MB/s eta 0:00:01\r\u001b[K     |██████████████████████████      | 1.1MB 12.4MB/s eta 0:00:01\r\u001b[K     |██████████████████████████▏     | 1.1MB 12.4MB/s eta 0:00:01\r\u001b[K     |██████████████████████████▌     | 1.1MB 12.4MB/s eta 0:00:01\r\u001b[K     |██████████████████████████▊     | 1.1MB 12.4MB/s eta 0:00:01\r\u001b[K     |███████████████████████████     | 1.1MB 12.4MB/s eta 0:00:01\r\u001b[K     |███████████████████████████▏    | 1.1MB 12.4MB/s eta 0:00:01\r\u001b[K     |███████████████████████████▌    | 1.1MB 12.4MB/s eta 0:00:01\r\u001b[K     |███████████████████████████▊    | 1.1MB 12.4MB/s eta 0:00:01\r\u001b[K     |████████████████████████████    | 1.1MB 12.4MB/s eta 0:00:01\r\u001b[K     |████████████████████████████▏   | 1.1MB 12.4MB/s eta 0:00:01\r\u001b[K     |████████████████████████████▌   | 1.2MB 12.4MB/s eta 0:00:01\r\u001b[K     |████████████████████████████▊   | 1.2MB 12.4MB/s eta 0:00:01\r\u001b[K     |█████████████████████████████   | 1.2MB 12.4MB/s eta 0:00:01\r\u001b[K     |█████████████████████████████▎  | 1.2MB 12.4MB/s eta 0:00:01\r\u001b[K     |█████████████████████████████▌  | 1.2MB 12.4MB/s eta 0:00:01\r\u001b[K     |█████████████████████████████▊  | 1.2MB 12.4MB/s eta 0:00:01\r\u001b[K     |██████████████████████████████  | 1.2MB 12.4MB/s eta 0:00:01\r\u001b[K     |██████████████████████████████▎ | 1.2MB 12.4MB/s eta 0:00:01\r\u001b[K     |██████████████████████████████▌ | 1.2MB 12.4MB/s eta 0:00:01\r\u001b[K     |██████████████████████████████▊ | 1.2MB 12.4MB/s eta 0:00:01\r\u001b[K     |███████████████████████████████ | 1.3MB 12.4MB/s eta 0:00:01\r\u001b[K     |███████████████████████████████▎| 1.3MB 12.4MB/s eta 0:00:01\r\u001b[K     |███████████████████████████████▌| 1.3MB 12.4MB/s eta 0:00:01\r\u001b[K     |███████████████████████████████▊| 1.3MB 12.4MB/s eta 0:00:01\r\u001b[K     |████████████████████████████████| 1.3MB 12.4MB/s eta 0:00:01\r\u001b[K     |████████████████████████████████| 1.3MB 12.4MB/s \n",
            "\u001b[?25hRequirement already satisfied: numpy in /usr/local/lib/python3.6/dist-packages (from transformers) (1.18.5)\n",
            "Collecting tokenizers==0.9.3\n",
            "\u001b[?25l  Downloading https://files.pythonhosted.org/packages/4c/34/b39eb9994bc3c999270b69c9eea40ecc6f0e97991dba28282b9fd32d44ee/tokenizers-0.9.3-cp36-cp36m-manylinux1_x86_64.whl (2.9MB)\n",
            "\u001b[K     |████████████████████████████████| 2.9MB 51.5MB/s \n",
            "\u001b[?25hRequirement already satisfied: tqdm>=4.27 in /usr/local/lib/python3.6/dist-packages (from transformers) (4.41.1)\n",
            "Requirement already satisfied: filelock in /usr/local/lib/python3.6/dist-packages (from transformers) (3.0.12)\n",
            "Requirement already satisfied: dataclasses; python_version < \"3.7\" in /usr/local/lib/python3.6/dist-packages (from transformers) (0.8)\n",
            "Requirement already satisfied: packaging in /usr/local/lib/python3.6/dist-packages (from transformers) (20.4)\n",
            "Collecting sentencepiece==0.1.91\n",
            "\u001b[?25l  Downloading https://files.pythonhosted.org/packages/d4/a4/d0a884c4300004a78cca907a6ff9a5e9fe4f090f5d95ab341c53d28cbc58/sentencepiece-0.1.91-cp36-cp36m-manylinux1_x86_64.whl (1.1MB)\n",
            "\u001b[K     |████████████████████████████████| 1.1MB 48.3MB/s \n",
            "\u001b[?25hRequirement already satisfied: requests in /usr/local/lib/python3.6/dist-packages (from transformers) (2.23.0)\n",
            "Collecting sacremoses\n",
            "\u001b[?25l  Downloading https://files.pythonhosted.org/packages/7d/34/09d19aff26edcc8eb2a01bed8e98f13a1537005d31e95233fd48216eed10/sacremoses-0.0.43.tar.gz (883kB)\n",
            "\u001b[K     |████████████████████████████████| 890kB 52.9MB/s \n",
            "\u001b[?25hRequirement already satisfied: regex!=2019.12.17 in /usr/local/lib/python3.6/dist-packages (from transformers) (2019.12.20)\n",
            "Requirement already satisfied: protobuf in /usr/local/lib/python3.6/dist-packages (from transformers) (3.12.4)\n",
            "Requirement already satisfied: six in /usr/local/lib/python3.6/dist-packages (from packaging->transformers) (1.15.0)\n",
            "Requirement already satisfied: pyparsing>=2.0.2 in /usr/local/lib/python3.6/dist-packages (from packaging->transformers) (2.4.7)\n",
            "Requirement already satisfied: certifi>=2017.4.17 in /usr/local/lib/python3.6/dist-packages (from requests->transformers) (2020.11.8)\n",
            "Requirement already satisfied: urllib3!=1.25.0,!=1.25.1,<1.26,>=1.21.1 in /usr/local/lib/python3.6/dist-packages (from requests->transformers) (1.24.3)\n",
            "Requirement already satisfied: chardet<4,>=3.0.2 in /usr/local/lib/python3.6/dist-packages (from requests->transformers) (3.0.4)\n",
            "Requirement already satisfied: idna<3,>=2.5 in /usr/local/lib/python3.6/dist-packages (from requests->transformers) (2.10)\n",
            "Requirement already satisfied: click in /usr/local/lib/python3.6/dist-packages (from sacremoses->transformers) (7.1.2)\n",
            "Requirement already satisfied: joblib in /usr/local/lib/python3.6/dist-packages (from sacremoses->transformers) (0.17.0)\n",
            "Requirement already satisfied: setuptools in /usr/local/lib/python3.6/dist-packages (from protobuf->transformers) (50.3.2)\n",
            "Building wheels for collected packages: sacremoses\n",
            "  Building wheel for sacremoses (setup.py) ... \u001b[?25l\u001b[?25hdone\n",
            "  Created wheel for sacremoses: filename=sacremoses-0.0.43-cp36-none-any.whl size=893257 sha256=e87dc41031241f793dbe67f0a01d87b8b1899b5446b8c44b15d106938bfe1bad\n",
            "  Stored in directory: /root/.cache/pip/wheels/29/3c/fd/7ce5c3f0666dab31a50123635e6fb5e19ceb42ce38d4e58f45\n",
            "Successfully built sacremoses\n",
            "Installing collected packages: tokenizers, sentencepiece, sacremoses, transformers\n",
            "Successfully installed sacremoses-0.0.43 sentencepiece-0.1.91 tokenizers-0.9.3 transformers-3.5.1\n"
          ],
          "name": "stdout"
        }
      ]
    },
    {
      "cell_type": "code",
      "metadata": {
        "id": "txeKKvCRR96S"
      },
      "source": [
        "import pandas as pd\n",
        "import math\n",
        "import seaborn as sns\n",
        "import matplotlib.pyplot as plt\n",
        "\n",
        "from sklearn.linear_model import LogisticRegression\n",
        "from sklearn.metrics import confusion_matrix,f1_score\n",
        "from sklearn.model_selection import train_test_split\n",
        "from sklearn.metrics import accuracy_score\n",
        "\n",
        "import torch\n",
        "from torch.utils.data import TensorDataset, DataLoader, RandomSampler, SequentialSampler\n",
        "from torch.nn import functional as F\n",
        "from transformers import AdamW\n",
        "from transformers import BertTokenizer\n",
        "from keras.preprocessing.sequence import pad_sequences"
      ],
      "execution_count": 21,
      "outputs": []
    },
    {
      "cell_type": "code",
      "metadata": {
        "id": "KfAZ7D2KSiZr",
        "colab": {
          "base_uri": "https://localhost:8080/"
        },
        "outputId": "9866b6b9-c8c0-4eb1-8a53-0cf48941311d"
      },
      "source": [
        "if torch.cuda.is_available():   \n",
        "   device = torch.device(\"cuda\")\n",
        "   print('Using GPU ', torch.cuda.get_device_name(0))\n",
        "else:\n",
        "   device = torch.device(\"cpu\")\n",
        "   print('Using CPU')"
      ],
      "execution_count": 22,
      "outputs": [
        {
          "output_type": "stream",
          "text": [
            "Using GPU  Tesla T4\n"
          ],
          "name": "stdout"
        }
      ]
    },
    {
      "cell_type": "code",
      "metadata": {
        "id": "I7x1Fs20gLl2"
      },
      "source": [
        "df = pd.read_csv('train.csv')"
      ],
      "execution_count": 24,
      "outputs": []
    },
    {
      "cell_type": "code",
      "metadata": {
        "colab": {
          "base_uri": "https://localhost:8080/",
          "height": 202
        },
        "id": "Opt8X0e9T2Da",
        "outputId": "3c0284c8-8130-408f-c386-ee126c4940e7"
      },
      "source": [
        "df.head()"
      ],
      "execution_count": 25,
      "outputs": [
        {
          "output_type": "execute_result",
          "data": {
            "text/html": [
              "<div>\n",
              "<style scoped>\n",
              "    .dataframe tbody tr th:only-of-type {\n",
              "        vertical-align: middle;\n",
              "    }\n",
              "\n",
              "    .dataframe tbody tr th {\n",
              "        vertical-align: top;\n",
              "    }\n",
              "\n",
              "    .dataframe thead th {\n",
              "        text-align: right;\n",
              "    }\n",
              "</style>\n",
              "<table border=\"1\" class=\"dataframe\">\n",
              "  <thead>\n",
              "    <tr style=\"text-align: right;\">\n",
              "      <th></th>\n",
              "      <th>id</th>\n",
              "      <th>text</th>\n",
              "      <th>author</th>\n",
              "    </tr>\n",
              "  </thead>\n",
              "  <tbody>\n",
              "    <tr>\n",
              "      <th>0</th>\n",
              "      <td>id26305</td>\n",
              "      <td>This process, however, afforded me no means of...</td>\n",
              "      <td>EAP</td>\n",
              "    </tr>\n",
              "    <tr>\n",
              "      <th>1</th>\n",
              "      <td>id17569</td>\n",
              "      <td>It never once occurred to me that the fumbling...</td>\n",
              "      <td>HPL</td>\n",
              "    </tr>\n",
              "    <tr>\n",
              "      <th>2</th>\n",
              "      <td>id11008</td>\n",
              "      <td>In his left hand was a gold snuff box, from wh...</td>\n",
              "      <td>EAP</td>\n",
              "    </tr>\n",
              "    <tr>\n",
              "      <th>3</th>\n",
              "      <td>id27763</td>\n",
              "      <td>How lovely is spring As we looked from Windsor...</td>\n",
              "      <td>MWS</td>\n",
              "    </tr>\n",
              "    <tr>\n",
              "      <th>4</th>\n",
              "      <td>id12958</td>\n",
              "      <td>Finding nothing else, not even gold, the Super...</td>\n",
              "      <td>HPL</td>\n",
              "    </tr>\n",
              "  </tbody>\n",
              "</table>\n",
              "</div>"
            ],
            "text/plain": [
              "        id                                               text author\n",
              "0  id26305  This process, however, afforded me no means of...    EAP\n",
              "1  id17569  It never once occurred to me that the fumbling...    HPL\n",
              "2  id11008  In his left hand was a gold snuff box, from wh...    EAP\n",
              "3  id27763  How lovely is spring As we looked from Windsor...    MWS\n",
              "4  id12958  Finding nothing else, not even gold, the Super...    HPL"
            ]
          },
          "metadata": {
            "tags": []
          },
          "execution_count": 25
        }
      ]
    },
    {
      "cell_type": "code",
      "metadata": {
        "id": "aTLJogGuZVUZ"
      },
      "source": [
        "from sklearn.preprocessing import LabelEncoder\n",
        "LE = LabelEncoder()\n",
        "df['a_l'] = LE.fit_transform(df['author'])"
      ],
      "execution_count": 26,
      "outputs": []
    },
    {
      "cell_type": "code",
      "metadata": {
        "colab": {
          "base_uri": "https://localhost:8080/",
          "height": 202
        },
        "id": "1TdG30TLZoyO",
        "outputId": "df0ac4b2-bc29-4481-8ba0-faf1f47dd3a4"
      },
      "source": [
        "df.head()"
      ],
      "execution_count": 27,
      "outputs": [
        {
          "output_type": "execute_result",
          "data": {
            "text/html": [
              "<div>\n",
              "<style scoped>\n",
              "    .dataframe tbody tr th:only-of-type {\n",
              "        vertical-align: middle;\n",
              "    }\n",
              "\n",
              "    .dataframe tbody tr th {\n",
              "        vertical-align: top;\n",
              "    }\n",
              "\n",
              "    .dataframe thead th {\n",
              "        text-align: right;\n",
              "    }\n",
              "</style>\n",
              "<table border=\"1\" class=\"dataframe\">\n",
              "  <thead>\n",
              "    <tr style=\"text-align: right;\">\n",
              "      <th></th>\n",
              "      <th>id</th>\n",
              "      <th>text</th>\n",
              "      <th>author</th>\n",
              "      <th>a_l</th>\n",
              "    </tr>\n",
              "  </thead>\n",
              "  <tbody>\n",
              "    <tr>\n",
              "      <th>0</th>\n",
              "      <td>id26305</td>\n",
              "      <td>This process, however, afforded me no means of...</td>\n",
              "      <td>EAP</td>\n",
              "      <td>0</td>\n",
              "    </tr>\n",
              "    <tr>\n",
              "      <th>1</th>\n",
              "      <td>id17569</td>\n",
              "      <td>It never once occurred to me that the fumbling...</td>\n",
              "      <td>HPL</td>\n",
              "      <td>1</td>\n",
              "    </tr>\n",
              "    <tr>\n",
              "      <th>2</th>\n",
              "      <td>id11008</td>\n",
              "      <td>In his left hand was a gold snuff box, from wh...</td>\n",
              "      <td>EAP</td>\n",
              "      <td>0</td>\n",
              "    </tr>\n",
              "    <tr>\n",
              "      <th>3</th>\n",
              "      <td>id27763</td>\n",
              "      <td>How lovely is spring As we looked from Windsor...</td>\n",
              "      <td>MWS</td>\n",
              "      <td>2</td>\n",
              "    </tr>\n",
              "    <tr>\n",
              "      <th>4</th>\n",
              "      <td>id12958</td>\n",
              "      <td>Finding nothing else, not even gold, the Super...</td>\n",
              "      <td>HPL</td>\n",
              "      <td>1</td>\n",
              "    </tr>\n",
              "  </tbody>\n",
              "</table>\n",
              "</div>"
            ],
            "text/plain": [
              "        id                                               text author  a_l\n",
              "0  id26305  This process, however, afforded me no means of...    EAP    0\n",
              "1  id17569  It never once occurred to me that the fumbling...    HPL    1\n",
              "2  id11008  In his left hand was a gold snuff box, from wh...    EAP    0\n",
              "3  id27763  How lovely is spring As we looked from Windsor...    MWS    2\n",
              "4  id12958  Finding nothing else, not even gold, the Super...    HPL    1"
            ]
          },
          "metadata": {
            "tags": []
          },
          "execution_count": 27
        }
      ]
    },
    {
      "cell_type": "code",
      "metadata": {
        "id": "_6rcpk79Xxnd"
      },
      "source": [
        "df['text'] = df['text'].apply(lambda x: x.lower())"
      ],
      "execution_count": 28,
      "outputs": []
    },
    {
      "cell_type": "code",
      "metadata": {
        "colab": {
          "base_uri": "https://localhost:8080/"
        },
        "id": "KLwcV49xVIyJ",
        "outputId": "f4a5047f-5b59-4f7b-a294-7bfe145b4711"
      },
      "source": [
        "X_data = df['text'].values\n",
        "X_data"
      ],
      "execution_count": 29,
      "outputs": [
        {
          "output_type": "execute_result",
          "data": {
            "text/plain": [
              "array(['this process, however, afforded me no means of ascertaining the dimensions of my dungeon; as i might make its circuit, and return to the point whence i set out, without being aware of the fact; so perfectly uniform seemed the wall.',\n",
              "       'it never once occurred to me that the fumbling might be a mere mistake.',\n",
              "       'in his left hand was a gold snuff box, from which, as he capered down the hill, cutting all manner of fantastic steps, he took snuff incessantly with an air of the greatest possible self satisfaction.',\n",
              "       ...,\n",
              "       'mais il faut agir that is to say, a frenchman never faints outright.',\n",
              "       'for an item of news like this, it strikes us it was very coolly received.\"',\n",
              "       'he laid a gnarled claw on my shoulder, and it seemed to me that its shaking was not altogether that of mirth.'],\n",
              "      dtype=object)"
            ]
          },
          "metadata": {
            "tags": []
          },
          "execution_count": 29
        }
      ]
    },
    {
      "cell_type": "code",
      "metadata": {
        "colab": {
          "base_uri": "https://localhost:8080/"
        },
        "id": "GkF_f8NCWfsk",
        "outputId": "d72a6ad2-5f91-43b1-910e-97a240f796e9"
      },
      "source": [
        "y_label = df['a_l'].values\n",
        "y_label"
      ],
      "execution_count": 30,
      "outputs": [
        {
          "output_type": "execute_result",
          "data": {
            "text/plain": [
              "array([0, 1, 0, ..., 0, 0, 1])"
            ]
          },
          "metadata": {
            "tags": []
          },
          "execution_count": 30
        }
      ]
    },
    {
      "cell_type": "code",
      "metadata": {
        "id": "nQ4cMVDzXW4a"
      },
      "source": [
        "class_to_int = {\"EAP\" : 0, \"HPL\" : 1, \"MWS\" : 2}\n",
        "int_to_class = {0 : \"EAP\", 1 : \"HPL\", 2 : \"MWS\"}"
      ],
      "execution_count": 31,
      "outputs": []
    },
    {
      "cell_type": "code",
      "metadata": {
        "id": "fyX4ITh3TY35",
        "colab": {
          "base_uri": "https://localhost:8080/"
        },
        "outputId": "d7f7c449-6825-4da1-aa8f-a20813324eb7"
      },
      "source": [
        "tokenizer = BertTokenizer.from_pretrained('bert-base-uncased')\n",
        "model = BertForSequenceClassification.from_pretrained('bert-base-uncased', return_dict=True)"
      ],
      "execution_count": 32,
      "outputs": [
        {
          "output_type": "stream",
          "text": [
            "Some weights of the model checkpoint at bert-base-uncased were not used when initializing BertForSequenceClassification: ['cls.predictions.bias', 'cls.predictions.transform.dense.weight', 'cls.predictions.transform.dense.bias', 'cls.predictions.decoder.weight', 'cls.seq_relationship.weight', 'cls.seq_relationship.bias', 'cls.predictions.transform.LayerNorm.weight', 'cls.predictions.transform.LayerNorm.bias']\n",
            "- This IS expected if you are initializing BertForSequenceClassification from the checkpoint of a model trained on another task or with another architecture (e.g. initializing a BertForSequenceClassification model from a BertForPreTraining model).\n",
            "- This IS NOT expected if you are initializing BertForSequenceClassification from the checkpoint of a model that you expect to be exactly identical (initializing a BertForSequenceClassification model from a BertForSequenceClassification model).\n",
            "Some weights of BertForSequenceClassification were not initialized from the model checkpoint at bert-base-uncased and are newly initialized: ['classifier.weight', 'classifier.bias']\n",
            "You should probably TRAIN this model on a down-stream task to be able to use it for predictions and inference.\n"
          ],
          "name": "stderr"
        }
      ]
    },
    {
      "cell_type": "code",
      "metadata": {
        "colab": {
          "base_uri": "https://localhost:8080/"
        },
        "id": "U1dch8I5AiGp",
        "outputId": "aa8c9f06-5540-4154-d563-b45b5ac687bd"
      },
      "source": [
        "# Tokenize all of the sentences and map the tokens to thier word IDs.\n",
        "input_ids = []\n",
        "for sent in X_data:\n",
        "    encoded_sent = tokenizer.encode(sent,add_special_tokens = True)\n",
        "    input_ids.append(encoded_sent)"
      ],
      "execution_count": 33,
      "outputs": [
        {
          "output_type": "stream",
          "text": [
            "Token indices sequence length is longer than the specified maximum sequence length for this model (955 > 512). Running this sequence through the model will result in indexing errors\n"
          ],
          "name": "stderr"
        }
      ]
    },
    {
      "cell_type": "code",
      "metadata": {
        "colab": {
          "base_uri": "https://localhost:8080/"
        },
        "id": "RGbs8ITdD0S4",
        "outputId": "91895569-fa48-46c9-c200-60b09c5197c0"
      },
      "source": [
        "# Print sentence 0, now as a list of IDs.\n",
        "print('Original: ', X_data[0])\n",
        "print('Token IDs:', input_ids[0])"
      ],
      "execution_count": 34,
      "outputs": [
        {
          "output_type": "stream",
          "text": [
            "Original:  this process, however, afforded me no means of ascertaining the dimensions of my dungeon; as i might make its circuit, and return to the point whence i set out, without being aware of the fact; so perfectly uniform seemed the wall.\n",
            "Token IDs: [101, 2023, 2832, 1010, 2174, 1010, 22891, 2033, 2053, 2965, 1997, 2004, 17119, 18249, 2075, 1996, 9646, 1997, 2026, 16633, 1025, 2004, 1045, 2453, 2191, 2049, 4984, 1010, 1998, 2709, 2000, 1996, 2391, 2043, 3401, 1045, 2275, 2041, 1010, 2302, 2108, 5204, 1997, 1996, 2755, 1025, 2061, 6669, 6375, 2790, 1996, 2813, 1012, 102]\n"
          ],
          "name": "stdout"
        }
      ]
    },
    {
      "cell_type": "code",
      "metadata": {
        "id": "4WjCC_OiE3MI"
      },
      "source": [
        "input_ids = pad_sequences(input_ids, maxlen=20, dtype=\"long\",value=0, truncating=\"post\", padding=\"post\")"
      ],
      "execution_count": 35,
      "outputs": []
    },
    {
      "cell_type": "code",
      "metadata": {
        "id": "sppXH67vhLEq"
      },
      "source": [
        "X_train, X_test, y_train, y_test = train_test_split(input_ids, y_label,shuffle=True,test_size=0.20,random_state=42,stratify=y_label)"
      ],
      "execution_count": 36,
      "outputs": []
    },
    {
      "cell_type": "code",
      "metadata": {
        "colab": {
          "base_uri": "https://localhost:8080/"
        },
        "id": "197uYKeCcWZv",
        "outputId": "7de1b58f-390e-4afc-c63f-2731e179daba"
      },
      "source": [
        "model = LogisticRegression()\n",
        "model.fit(X_train, y_train)\n",
        "y_pred = model.predict(X_test)\n",
        "count_misclassified = (y_test != y_pred).sum()\n",
        "count_misclassified\n"
      ],
      "execution_count": 37,
      "outputs": [
        {
          "output_type": "execute_result",
          "data": {
            "text/plain": [
              "2290"
            ]
          },
          "metadata": {
            "tags": []
          },
          "execution_count": 37
        }
      ]
    },
    {
      "cell_type": "code",
      "metadata": {
        "colab": {
          "base_uri": "https://localhost:8080/",
          "height": 297
        },
        "id": "zmTeqHXq7TP2",
        "outputId": "f566cc77-bf2d-4950-d1db-ab3e6ff29e8e"
      },
      "source": [
        "class_names = ['EAP','HPL','MWS']\n",
        "cm = confusion_matrix(y_test, y_pred)\n",
        "df_cm = pd.DataFrame(cm, index=class_names, columns=class_names)\n",
        "hmap = sns.heatmap(df_cm, annot=True, fmt=\"d\", cmap=\"Blues\")\n",
        "hmap.yaxis.set_ticklabels(hmap.yaxis.get_ticklabels())\n",
        "hmap.xaxis.set_ticklabels(hmap.xaxis.get_ticklabels())\n",
        "plt.ylabel('True')\n",
        "plt.xlabel('Predicted');\n",
        "plt.show()\n",
        "\n",
        "print(f1_score(y_test,y_pred,average=None))"
      ],
      "execution_count": 38,
      "outputs": [
        {
          "output_type": "display_data",
          "data": {
            "image/png": "[encoded data removed]",
            "text/plain": [
              "<Figure size 432x288 with 2 Axes>"
            ]
          },
          "metadata": {
            "tags": [],
            "needs_background": "light"
          }
        },
        {
          "output_type": "stream",
          "text": [
            "[0.55641026 0.32969319 0.01139138]\n"
          ],
          "name": "stdout"
        }
      ]
    }
  ]
}